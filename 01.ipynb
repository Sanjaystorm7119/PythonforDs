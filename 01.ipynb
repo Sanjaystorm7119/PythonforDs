{
 "cells": [
  {
   "cell_type": "code",
   "execution_count": null,
   "id": "8170ba9d",
   "metadata": {},
   "outputs": [],
   "source": [
    "import pandas as pd\n"
   ]
  },
  {
   "cell_type": "code",
   "execution_count": 12,
   "id": "8d99844d",
   "metadata": {},
   "outputs": [
    {
     "data": {
      "text/plain": [
       "'ssdsdsdasds random'"
      ]
     },
     "execution_count": 12,
     "metadata": {},
     "output_type": "execute_result"
    }
   ],
   "source": [
    "a='ssdsdsdasds'\n",
    "b=\"random\"\n",
    "a+\" \"+a\n",
    "f'{a} {b}'"
   ]
  },
  {
   "cell_type": "code",
   "execution_count": 28,
   "id": "3419fed7",
   "metadata": {},
   "outputs": [
    {
     "name": "stdout",
     "output_type": "stream",
     "text": [
      "['por', 'ind', 'chi', 'bra', 'arg']\n"
     ]
    },
    {
     "data": {
      "text/plain": [
       "['ind']"
      ]
     },
     "execution_count": 28,
     "metadata": {},
     "output_type": "execute_result"
    }
   ],
   "source": [
    "mylist=['ind','chi','bra']\n",
    "mylist.append('arg')\n",
    "mylist.insert(0,'por')\n",
    "print(mylist)\n",
    "\n",
    "mylist[1:2]"
   ]
  },
  {
   "cell_type": "code",
   "execution_count": null,
   "id": "d396469d",
   "metadata": {},
   "outputs": [],
   "source": []
  },
  {
   "cell_type": "code",
   "execution_count": null,
   "id": "d242f803",
   "metadata": {},
   "outputs": [
    {
     "name": "stdout",
     "output_type": "stream",
     "text": [
      "['ind', 'chi', 'bra']\n",
      "['ind', 'chi', 'bra']\n",
      "['ind', 'chi', 'bra']\n"
     ]
    }
   ],
   "source": [
    "mylist=['ind','chi','bra',]\n",
    "mylist1=mylist.copy()\n",
    "mylist2= mylist[:]\n",
    "print(mylist)\n",
    "print(mylist1)\n",
    "print(mylist2)\n",
    "\n",
    "\n",
    "\n"
   ]
  },
  {
   "cell_type": "code",
   "execution_count": 41,
   "id": "0ec69e11",
   "metadata": {},
   "outputs": [
    {
     "name": "stdout",
     "output_type": "stream",
     "text": [
      "0 ind\n",
      "1 chi\n",
      "2 bra\n"
     ]
    }
   ],
   "source": [
    "mylist=['ind','chi','bra',]\n",
    "\n",
    "for i,country in enumerate(mylist):\n",
    "    print(i,country)"
   ]
  },
  {
   "cell_type": "code",
   "execution_count": null,
   "id": "1a533c04",
   "metadata": {},
   "outputs": [],
   "source": [
    "my_dict = {\"name\" : \"\"}"
   ]
  }
 ],
 "metadata": {
  "kernelspec": {
   "display_name": "base",
   "language": "python",
   "name": "python3"
  },
  "language_info": {
   "codemirror_mode": {
    "name": "ipython",
    "version": 3
   },
   "file_extension": ".py",
   "mimetype": "text/x-python",
   "name": "python",
   "nbconvert_exporter": "python",
   "pygments_lexer": "ipython3",
   "version": "3.12.7"
  }
 },
 "nbformat": 4,
 "nbformat_minor": 5
}
