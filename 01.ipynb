{
 "cells": [
  {
   "cell_type": "code",
   "execution_count": null,
   "id": "8170ba9d",
   "metadata": {},
   "outputs": [],
   "source": [
    "import pandas as pd\n"
   ]
  },
  {
   "cell_type": "code",
   "execution_count": 12,
   "id": "8d99844d",
   "metadata": {},
   "outputs": [
    {
     "data": {
      "text/plain": [
       "'ssdsdsdasds random'"
      ]
     },
     "execution_count": 12,
     "metadata": {},
     "output_type": "execute_result"
    }
   ],
   "source": [
    "a='ssdsdsdasds'\n",
    "b=\"random\"\n",
    "a+\" \"+a\n",
    "f'{a} {b}'"
   ]
  },
  {
   "cell_type": "code",
   "execution_count": 28,
   "id": "3419fed7",
   "metadata": {},
   "outputs": [
    {
     "name": "stdout",
     "output_type": "stream",
     "text": [
      "['por', 'ind', 'chi', 'bra', 'arg']\n"
     ]
    },
    {
     "data": {
      "text/plain": [
       "['ind']"
      ]
     },
     "execution_count": 28,
     "metadata": {},
     "output_type": "execute_result"
    }
   ],
   "source": [
    "mylist=['ind','chi','bra']\n",
    "mylist.append('arg')\n",
    "mylist.insert(0,'por')\n",
    "print(mylist)\n",
    "\n",
    "mylist[1:2]"
   ]
  },
  {
   "cell_type": "code",
   "execution_count": null,
   "id": "d242f803",
   "metadata": {},
   "outputs": [
    {
     "name": "stdout",
     "output_type": "stream",
     "text": [
      "['ind', 'chi', 'bra']\n",
      "['ind', 'chi', 'bra']\n",
      "['ind', 'chi', 'bra']\n"
     ]
    }
   ],
   "source": [
    "mylist=['ind','chi','bra',]\n",
    "mylist1=mylist.copy()\n",
    "mylist2= mylist[:]\n",
    "print(mylist)\n",
    "print(mylist1)\n",
    "print(mylist2)\n",
    "\n",
    "\n",
    "\n"
   ]
  },
  {
   "cell_type": "code",
   "execution_count": 41,
   "id": "0ec69e11",
   "metadata": {},
   "outputs": [
    {
     "name": "stdout",
     "output_type": "stream",
     "text": [
      "0 ind\n",
      "1 chi\n",
      "2 bra\n"
     ]
    }
   ],
   "source": [
    "mylist=['ind','chi','bra',]\n",
    "\n",
    "for i,country in enumerate(mylist):\n",
    "    print(i,country)"
   ]
  },
  {
   "cell_type": "code",
   "execution_count": 42,
   "id": "1a533c04",
   "metadata": {},
   "outputs": [
    {
     "name": "stdout",
     "output_type": "stream",
     "text": [
      "name jack\n",
      "height 1.7\n"
     ]
    }
   ],
   "source": [
    "my_dict = {\"name\" : \"jack\",\"height\":1.7}\n",
    "for k,v in my_dict.items():\n",
    "    print(k,v)"
   ]
  },
  {
   "cell_type": "code",
   "execution_count": 43,
   "id": "0c0cb7f2",
   "metadata": {},
   "outputs": [
    {
     "data": {
      "text/plain": [
       "5"
      ]
     },
     "execution_count": 43,
     "metadata": {},
     "output_type": "execute_result"
    }
   ],
   "source": [
    "def add(a,b):\n",
    "    return a+b\n",
    "add(2,3)"
   ]
  },
  {
   "cell_type": "code",
   "execution_count": 46,
   "id": "501883ba",
   "metadata": {},
   "outputs": [
    {
     "data": {
      "text/plain": [
       "10"
      ]
     },
     "execution_count": 46,
     "metadata": {},
     "output_type": "execute_result"
    }
   ],
   "source": [
    "\n",
    "def add(*a):\n",
    "    return sum(a)\n",
    "add(1,2,3,4)"
   ]
  },
  {
   "cell_type": "code",
   "execution_count": 49,
   "id": "07583f4b",
   "metadata": {},
   "outputs": [
    {
     "name": "stdout",
     "output_type": "stream",
     "text": [
      "3\n",
      "7\n",
      "1\n",
      "<class 'list'>\n"
     ]
    }
   ],
   "source": [
    "mylist=['ind','chi','bra',]\n",
    "mylist1=[1,2,3,4,5,6,7]\n",
    "print(len(mylist))\n",
    "print(max(mylist1))\n",
    "print(min(mylist1))\n",
    "print(type(mylist1))\n",
    "\n",
    "\n"
   ]
  },
  {
   "cell_type": "code",
   "execution_count": 50,
   "id": "dcc6247b",
   "metadata": {},
   "outputs": [
    {
     "name": "stdout",
     "output_type": "stream",
     "text": [
      "1\n",
      "3\n",
      "5\n",
      "7\n"
     ]
    }
   ],
   "source": [
    "mylist1=[1,2,3,4,5,6,7]\n",
    "for i in range(0,len(mylist1),2):\n",
    "    print(mylist1[i])"
   ]
  },
  {
   "cell_type": "code",
   "execution_count": 55,
   "id": "9111f229",
   "metadata": {},
   "outputs": [
    {
     "name": "stdout",
     "output_type": "stream",
     "text": [
      "2 4 6 "
     ]
    }
   ],
   "source": [
    "mylist1=[1,2,3,4,5,6,7]\n",
    "for num in mylist1:\n",
    "    print(num, end=\" \") if num%2 == 0 else print(\"\",end=\"\")"
   ]
  },
  {
   "cell_type": "code",
   "execution_count": null,
   "id": "2e95f942",
   "metadata": {},
   "outputs": [
    {
     "data": {
      "text/plain": [
       "'d:\\\\Python\\\\GenAiWithLangChain\\\\pyfords'"
      ]
     },
     "execution_count": 57,
     "metadata": {},
     "output_type": "execute_result"
    }
   ],
   "source": [
    "# module\n",
    "import os\n",
    "\n",
    "os.getcwd() #pwd"
   ]
  }
 ],
 "metadata": {
  "kernelspec": {
   "display_name": "base",
   "language": "python",
   "name": "python3"
  },
  "language_info": {
   "codemirror_mode": {
    "name": "ipython",
    "version": 3
   },
   "file_extension": ".py",
   "mimetype": "text/x-python",
   "name": "python",
   "nbconvert_exporter": "python",
   "pygments_lexer": "ipython3",
   "version": "3.12.7"
  }
 },
 "nbformat": 4,
 "nbformat_minor": 5
}
